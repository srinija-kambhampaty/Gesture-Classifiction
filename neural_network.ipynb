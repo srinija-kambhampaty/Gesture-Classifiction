{
 "cells": [
  {
   "cell_type": "markdown",
   "metadata": {
    "id": "D_VLX6YM933k"
   },
   "source": [
    "## Gesture classification using muscle activity - Neural Networks"
   ]
  },
  {
   "cell_type": "markdown",
   "metadata": {
    "id": "RcP4SfxQ933l"
   },
   "source": [
    "## Problem Statement"
   ]
  },
  {
   "cell_type": "markdown",
   "metadata": {
    "id": "_dlOeGSO933m"
   },
   "source": [
    "# Domain\n",
    "Human Computer Interaction, Neural Networks, Prosthetic Arms\n"
   ]
  },
  {
   "cell_type": "markdown",
   "metadata": {
    "id": "ae7c0RNQ933m"
   },
   "source": [
    "### Business Context: "
   ]
  },
  {
   "cell_type": "markdown",
   "metadata": {
    "id": "NuU53d3j933n"
   },
   "source": [
    "Prosthetic control systems enable prosthetic devices to have multiple degrees of freedom. The system is built of several components. It connects a muscle activity (EMG, Electromyography) sensor to a user Android/Android Things App. The app collects data, then a server builds a Tensorflow model specifically for this user. After that the model can be downloaded and executed on the device to control motors or other appendages.\n",
    "This dataset can be used to map user residual muscle gestures to certain actions of a prosthetic such as an open/close hand or rotate wrist.\n",
    "For a reference please watch a video on this topic : Living with a mind-controlled robot arm\n",
    "Four classes of motion were written from MYO armband,\n",
    "with the help of the nukleous app : https://github.com/cyber-punk-me/nukleos.\n",
    "The MYO armband has 8 sensors placed on the skin surface, each measure electrical activity produced by muscles beneath.\n"
   ]
  },
  {
   "cell_type": "markdown",
   "metadata": {
    "id": "cHnKWxdY933n"
   },
   "source": [
    "# Objective"
   ]
  },
  {
   "cell_type": "markdown",
   "metadata": {
    "id": "BGUpghXK933o"
   },
   "source": [
    "## We will build a gesture classification model using the gesture classification dataset"
   ]
  },
  {
   "cell_type": "code",
   "execution_count": null,
   "metadata": {
    "id": "XF7vqnpL933o",
    "outputId": "dddeea4b-2b27-4b5f-c99b-2154cf4edec0"
   },
   "outputs": [],
   "source": [
    "from IPython.display import Image\n",
    "Image(filename='DataSet_Desc.jpg',width=500,height=450)"
   ]
  },
  {
   "cell_type": "markdown",
   "metadata": {
    "id": "LoI7VUXi933q"
   },
   "source": [
    "# PROBLEM"
   ]
  },
  {
   "cell_type": "code",
   "execution_count": null,
   "metadata": {
    "id": "J3ax_Pe6933r",
    "outputId": "04d9a918-30ca-4446-8e4f-fc8eeefec865"
   },
   "outputs": [],
   "source": [
    "from IPython.display import Image\n",
    "Image(filename='Question.jpg',width=550,height=550)"
   ]
  },
  {
   "cell_type": "markdown",
   "metadata": {
    "id": "DYSZICGH933r"
   },
   "source": [
    "**Importing all required Libraries**"
   ]
  },
  {
   "cell_type": "code",
   "execution_count": null,
   "metadata": {
    "id": "vse8-uep933r"
   },
   "outputs": [],
   "source": [
    "import numpy as np\n",
    "import pandas as pd\n",
    "import matplotlib.pyplot as plt\n",
    "import seaborn as sns\n",
    "from sklearn.cluster import KMeans \n",
    "from sklearn import tree\n",
    "from sklearn.tree import DecisionTreeClassifier\n",
    "from sklearn.ensemble import RandomForestClassifier\n",
    "from sklearn.neural_network import MLPClassifier\n",
    "from sklearn.model_selection import train_test_split\n",
    "from sklearn.metrics import roc_auc_score,roc_curve,classification_report,confusion_matrix\n",
    "from sklearn.preprocessing import StandardScaler\n",
    "from sklearn.model_selection import GridSearchCV"
   ]
  },
  {
   "cell_type": "markdown",
   "metadata": {
    "id": "JpBQ6THt933s"
   },
   "source": [
    "# 1.) READING THE DATA SET"
   ]
  },
  {
   "cell_type": "code",
   "execution_count": null,
   "metadata": {
    "id": "bJRnsnF-933s"
   },
   "outputs": [],
   "source": [
    "df = pd.read_csv(\"gesture_recognition.csv\")"
   ]
  },
  {
   "cell_type": "markdown",
   "metadata": {
    "id": "z47qvqK0933t"
   },
   "source": [
    "# 2.) CHECK the SHAPE of the DATA and CHECK for MISSING VALUES"
   ]
  },
  {
   "cell_type": "markdown",
   "metadata": {
    "id": "c7F-EEru933t"
   },
   "source": [
    "**BASIC DATA EXPLORATION**"
   ]
  },
  {
   "cell_type": "markdown",
   "metadata": {
    "id": "D8FauZ5M933t"
   },
   "source": [
    "In this step, I will be performing the below operations to check what the data set comprises of and will check the below things:\n",
    "\n",
    "1.) head of the dataset\n",
    "2.) shape of the dataset\n",
    "3.) info of the dataset\n",
    "4.) summary of the dataset"
   ]
  },
  {
   "cell_type": "code",
   "execution_count": null,
   "metadata": {
    "id": "IE9BufJ-933t",
    "outputId": "d9438c12-cbe0-440d-cda7-103cdff234d9"
   },
   "outputs": [],
   "source": [
    "df.head()"
   ]
  },
  {
   "cell_type": "code",
   "execution_count": null,
   "metadata": {
    "id": "8Hz5jC9-933u",
    "outputId": "63f47f61-22bc-472b-8393-599499eed024"
   },
   "outputs": [],
   "source": [
    "df.head(10)"
   ]
  },
  {
   "cell_type": "markdown",
   "metadata": {
    "id": "HGV48QcY933u"
   },
   "source": [
    "**head function will give us the top records in the data set. By default python shows, only top 5 records. head(10) will give, top 10 Records.**\n"
   ]
  },
  {
   "cell_type": "markdown",
   "metadata": {
    "id": "EuMd-AnI933v"
   },
   "source": [
    "# SHAPE of the DATASET"
   ]
  },
  {
   "cell_type": "code",
   "execution_count": null,
   "metadata": {
    "id": "0t3usTD2933v",
    "outputId": "adac6460-fe1b-4fd2-9ee0-319fc7ac9ff2"
   },
   "outputs": [],
   "source": [
    "df.shape"
   ]
  },
  {
   "cell_type": "markdown",
   "metadata": {
    "id": "qSYaEgbO933v"
   },
   "source": [
    "**Shape attribute tells us number of observations and variables we have in the data set. It is used to check the dimension of data. The gesture_recognition data set has 11674 observations and 66 variables in the data set.**"
   ]
  },
  {
   "cell_type": "code",
   "execution_count": null,
   "metadata": {
    "id": "aW2YuuB4933w",
    "outputId": "35332236-cd6d-4431-a202-f0744adb5037"
   },
   "outputs": [],
   "source": [
    "df.info()"
   ]
  },
  {
   "cell_type": "markdown",
   "metadata": {
    "id": "uXuK7y6f933w"
   },
   "source": [
    "**info() is used to check the Information about the data and the datatypes of each respective attributes.**"
   ]
  },
  {
   "cell_type": "markdown",
   "metadata": {
    "id": "yujG9wuH933w"
   },
   "source": [
    "**Summary of the data**"
   ]
  },
  {
   "cell_type": "code",
   "execution_count": null,
   "metadata": {
    "id": "ddiKcUeN933x",
    "outputId": "e515df66-b572-4d49-a63f-befa46699bed"
   },
   "outputs": [],
   "source": [
    "df.describe(include=\"all\")"
   ]
  },
  {
   "cell_type": "code",
   "execution_count": null,
   "metadata": {
    "id": "Ch071Mri933x",
    "outputId": "1514860a-df48-4368-d223-63bfe29b8966"
   },
   "outputs": [],
   "source": [
    "df.describe(include=\"all\").T"
   ]
  },
  {
   "cell_type": "markdown",
   "metadata": {
    "id": "H_7_2j1J933y"
   },
   "source": [
    "**The describe method will help to see how data has been spread for the numerical values. We can clearly see the minimum value, mean values, different percentile values and maximum values.**"
   ]
  },
  {
   "cell_type": "markdown",
   "metadata": {
    "id": "k8QMMFHT933y"
   },
   "source": [
    "# Checking for missing values in any column"
   ]
  },
  {
   "cell_type": "code",
   "execution_count": null,
   "metadata": {
    "id": "psmjI5rn933y",
    "outputId": "31b9b0d6-3d30-4ed8-a30e-02b19ddcccde"
   },
   "outputs": [],
   "source": [
    "# Are there any missing values ?\n",
    "df.isnull().sum()"
   ]
  },
  {
   "cell_type": "markdown",
   "metadata": {
    "id": "bNWrPAUV933z"
   },
   "source": [
    "**Now, we can clearly see that there are NO Missing Values in the data set.**"
   ]
  },
  {
   "cell_type": "markdown",
   "metadata": {
    "id": "nm25_3jS933z"
   },
   "source": [
    "### Check for Duplicate records"
   ]
  },
  {
   "cell_type": "code",
   "execution_count": null,
   "metadata": {
    "colab": {
     "base_uri": "https://localhost:8080/",
     "height": 231
    },
    "id": "pTfSVUho933z",
    "outputId": "34eb124f-8f91-4694-ee18-949574a97689"
   },
   "outputs": [],
   "source": [
    "# Check for duplicate data\n",
    "\n",
    "dups = df.duplicated()\n",
    "print('Number of duplicate rows = %d' % (dups.sum()))\n",
    "\n",
    "df[dups]"
   ]
  },
  {
   "cell_type": "markdown",
   "metadata": {
    "id": "esvJjw7s933z"
   },
   "source": [
    "**Now, we can  clearly see that there are no duplicate records in the data set.**"
   ]
  },
  {
   "cell_type": "markdown",
   "metadata": {
    "id": "LiSjvZPm9330"
   },
   "source": [
    "## Dropping unwanted variables\n"
   ]
  },
  {
   "cell_type": "code",
   "execution_count": null,
   "metadata": {
    "id": "BQe8zQcO9330"
   },
   "outputs": [],
   "source": [
    "df=df.drop([\"SlNo\"],axis=1)"
   ]
  },
  {
   "cell_type": "code",
   "execution_count": null,
   "metadata": {
    "id": "9xOj9ZPy9330",
    "outputId": "4fe5fa88-d919-4bac-cf9b-f55cab31c2ab"
   },
   "outputs": [],
   "source": [
    "df.info()"
   ]
  },
  {
   "cell_type": "markdown",
   "metadata": {
    "id": "V4dl9CvV9331"
   },
   "source": [
    "## Geting unique count of gesture_class Variable"
   ]
  },
  {
   "cell_type": "code",
   "execution_count": null,
   "metadata": {
    "id": "Zs9y5fh69331",
    "outputId": "e23aa422-8aab-412f-d346-eb6c20a0008b"
   },
   "outputs": [],
   "source": [
    "df.gesture_class.value_counts()"
   ]
  },
  {
   "cell_type": "markdown",
   "metadata": {
    "id": "ABQ0f7nj9331"
   },
   "source": [
    "## Checking for Outliers"
   ]
  },
  {
   "cell_type": "code",
   "execution_count": null,
   "metadata": {
    "id": "BPsZlzIA9331",
    "outputId": "8160f74d-a6f2-499b-a75a-92bb437bc05a"
   },
   "outputs": [],
   "source": [
    "df.boxplot(column=['gesture_class'])\n",
    "plt.show()"
   ]
  },
  {
   "cell_type": "code",
   "execution_count": null,
   "metadata": {
    "id": "FgHQJ9a09332",
    "outputId": "7083968c-a703-4c0e-c968-62f965c3f710"
   },
   "outputs": [],
   "source": [
    "# construct box plot for continuous variables\n",
    "plt.figure(figsize=(15,15))\n",
    "df[['muscle reading 1 sensor 1', 'muscle reading 1 sensor 2', 'muscle reading 1 sensor 3', 'muscle reading 1 sensor 4', 'muscle reading 1 sensor 5', 'muscle reading 1 sensor 6', \n",
    "                   'muscle reading 1 sensor 7','muscle reading 1 sensor 8']].boxplot(vert=0)"
   ]
  },
  {
   "cell_type": "code",
   "execution_count": null,
   "metadata": {
    "id": "PuJGxFR09332",
    "outputId": "eacc7564-2a24-4399-dc2a-01da666590ca"
   },
   "outputs": [],
   "source": [
    "# construct box plot for continuous variables\n",
    "plt.figure(figsize=(15,15))\n",
    "df[['muscle reading 2 sensor 1', 'muscle reading 2 sensor 2', 'muscle reading 2 sensor 3', 'muscle reading 2 sensor 4', 'muscle reading 2 sensor 5', 'muscle reading 2 sensor 6', \n",
    "                   'muscle reading 2 sensor 7','muscle reading 2 sensor 8']].boxplot(vert=0)"
   ]
  },
  {
   "cell_type": "code",
   "execution_count": null,
   "metadata": {
    "id": "yjBH7DlV9333",
    "outputId": "c755160f-d891-4ef6-c060-bde2760608fd"
   },
   "outputs": [],
   "source": [
    "# construct box plot for continuous variables\n",
    "plt.figure(figsize=(15,15))\n",
    "df[['muscle reading 3 sensor 1', 'muscle reading 3 sensor 2', 'muscle reading 3 sensor 3', 'muscle reading 3 sensor 4', 'muscle reading 3 sensor 5', 'muscle reading 3 sensor 6', \n",
    "                   'muscle reading 3 sensor 7','muscle reading 3 sensor 8']].boxplot(vert=0)"
   ]
  },
  {
   "cell_type": "code",
   "execution_count": null,
   "metadata": {
    "id": "d0foSv5g9333",
    "outputId": "082fadb1-c2c8-4919-9a58-c23cd3932d5a"
   },
   "outputs": [],
   "source": [
    "# construct box plot for continuous variables\n",
    "plt.figure(figsize=(15,15))\n",
    "df[['muscle reading 4 sensor 1', 'muscle reading 4 sensor 2', 'muscle reading 4 sensor 3', 'muscle reading 4 sensor 4', 'muscle reading 4 sensor 5', 'muscle reading 4 sensor 6', \n",
    "                   'muscle reading 4 sensor 7','muscle reading 4 sensor 8']].boxplot(vert=0)"
   ]
  },
  {
   "cell_type": "code",
   "execution_count": null,
   "metadata": {
    "id": "7XFKM-TQ9334",
    "outputId": "10836f3c-b838-4b87-ce52-e43f3c75f249"
   },
   "outputs": [],
   "source": [
    "# construct box plot for continuous variables\n",
    "plt.figure(figsize=(15,15))\n",
    "df[['muscle reading 5 sensor 1', 'muscle reading 5 sensor 2', 'muscle reading 5 sensor 3', 'muscle reading 5 sensor 4', 'muscle reading 5 sensor 5', 'muscle reading 5 sensor 6', \n",
    "                   'muscle reading 5 sensor 7','muscle reading 5 sensor 8']].boxplot(vert=0)"
   ]
  },
  {
   "cell_type": "code",
   "execution_count": null,
   "metadata": {
    "id": "dNFByt5L9334",
    "outputId": "4d2a416a-ab33-4f0e-d78c-ae92f73d4c0c"
   },
   "outputs": [],
   "source": [
    "# construct box plot for continuous variables\n",
    "plt.figure(figsize=(15,15))\n",
    "df[['muscle reading 6 sensor 1', 'muscle reading 6 sensor 2', 'muscle reading 6 sensor 3', 'muscle reading 6 sensor 4', 'muscle reading 6 sensor 5', 'muscle reading 6 sensor 6', \n",
    "                   'muscle reading 6 sensor 7','muscle reading 6 sensor 8']].boxplot(vert=0)"
   ]
  },
  {
   "cell_type": "code",
   "execution_count": null,
   "metadata": {
    "id": "FuFMG2Xz9335",
    "outputId": "5b2cf1bb-f867-4043-c5a6-b140c8d5b823"
   },
   "outputs": [],
   "source": [
    "# construct box plot for continuous variables\n",
    "plt.figure(figsize=(15,15))\n",
    "df[['muscle reading 7 sensor 1', 'muscle reading 7 sensor 2', 'muscle reading 7 sensor 3', 'muscle reading 7 sensor 4', 'muscle reading 7 sensor 5', 'muscle reading 7 sensor 6', \n",
    "                   'muscle reading 7 sensor 7','muscle reading 7 sensor 8']].boxplot(vert=0)"
   ]
  },
  {
   "cell_type": "code",
   "execution_count": null,
   "metadata": {
    "id": "-iQqzM8g9335",
    "outputId": "4651f930-6327-48f0-c1a6-219e949bb2d9"
   },
   "outputs": [],
   "source": [
    "# construct box plot for continuous variables\n",
    "plt.figure(figsize=(15,15))\n",
    "df[['muscle reading 8 sensor 1', 'muscle reading 8 sensor 2', 'muscle reading 8 sensor 3', 'muscle reading 8 sensor 4', 'muscle reading 8 sensor 5', 'muscle reading 8 sensor 6', \n",
    "                   'muscle reading 8 sensor 7','muscle reading 8 sensor 8']].boxplot(vert=0)"
   ]
  },
  {
   "cell_type": "markdown",
   "metadata": {
    "id": "J1NK-PLt9336"
   },
   "source": [
    "**Looking at the box plot, it seems that 64 variables are having outliers except guesture_class.**\n",
    "\n",
    "**These outliers value needs to be teated and there are several ways of treating them:**\n",
    "    \n",
    "- **Drop the outlier value**\n",
    "- **Replace the outlier value using the IQR**\n"
   ]
  },
  {
   "cell_type": "markdown",
   "metadata": {
    "id": "uaFWEZZ89336"
   },
   "source": [
    "## OUTLIER TREATMENT"
   ]
  },
  {
   "cell_type": "markdown",
   "metadata": {
    "id": "YB3_eHaO9336"
   },
   "source": [
    "**Created a user definded function for finding the lower and upper range for a variable so that outlier can be treated.**"
   ]
  },
  {
   "cell_type": "code",
   "execution_count": null,
   "metadata": {
    "id": "SSaan3v99337"
   },
   "outputs": [],
   "source": [
    "def remove_outlier(col):\n",
    "    sorted(col)\n",
    "    Q1,Q3=col.quantile([0.25,0.75])\n",
    "    IQR=Q3-Q1\n",
    "    lower_range= Q1-(1.5 * IQR)\n",
    "    upper_range= Q3+(1.5 * IQR)\n",
    "    return lower_range, upper_range  "
   ]
  },
  {
   "cell_type": "code",
   "execution_count": null,
   "metadata": {
    "id": "q9rdw2iM9337",
    "outputId": "d88160ce-2743-4807-f4cb-4441c272074a"
   },
   "outputs": [],
   "source": [
    "lrm1s1,urm1s1=remove_outlier(df['muscle reading 1 sensor 1'])\n",
    "df['muscle reading 1 sensor 1']=np.where(df['muscle reading 1 sensor 1']>urm1s1,urm1s1,df['muscle reading 1 sensor 1'])\n",
    "df['muscle reading 1 sensor 1']=np.where(df['muscle reading 1 sensor 1']<lrm1s1,lrm1s1,df['muscle reading 1 sensor 1'])\n",
    "\n",
    "\n",
    "lrm1s2,urm1s2=remove_outlier(df['muscle reading 1 sensor 2'])\n",
    "df['muscle reading 1 sensor 2']=np.where(df['muscle reading 1 sensor 2']>urm1s2,urm1s2,df['muscle reading 1 sensor 2'])\n",
    "df['muscle reading 1 sensor 2']=np.where(df['muscle reading 1 sensor 2']<lrm1s2,lrm1s2,df['muscle reading 1 sensor 2'])\n",
    "\n",
    "lrm1s3,urm1s3=remove_outlier(df['muscle reading 1 sensor 3'])\n",
    "df['muscle reading 1 sensor 3']=np.where(df['muscle reading 1 sensor 3']>urm1s3,urm1s3,df['muscle reading 1 sensor 3'])\n",
    "df['muscle reading 1 sensor 3']=np.where(df['muscle reading 1 sensor 3']<lrm1s3,lrm1s3,df['muscle reading 1 sensor 3'])\n",
    "\n",
    "lrm1s4,urm1s4=remove_outlier(df['muscle reading 1 sensor 4'])\n",
    "df['muscle reading 1 sensor 4']=np.where(df['muscle reading 1 sensor 4']>urm1s4,urm1s4,df['muscle reading 1 sensor 4'])\n",
    "df['muscle reading 1 sensor 4']=np.where(df['muscle reading 1 sensor 4']<lrm1s4,lrm1s4,df['muscle reading 1 sensor 4'])\n",
    "\n",
    "\n",
    "lrm1s5,urm1s5=remove_outlier(df['muscle reading 1 sensor 5'])\n",
    "df['muscle reading 1 sensor 5']=np.where(df['muscle reading 1 sensor 5']>urm1s5,urm1s5,df['muscle reading 1 sensor 5'])\n",
    "df['muscle reading 1 sensor 5']=np.where(df['muscle reading 1 sensor 5']<lrm1s5,lrm1s5,df['muscle reading 1 sensor 5'])\n",
    "\n",
    "lrm1s6,urm1s6=remove_outlier(df['muscle reading 1 sensor 6'])\n",
    "df['muscle reading 1 sensor 6']=np.where(df['muscle reading 1 sensor 6']>urm1s6,urm1s6,df['muscle reading 1 sensor 6'])\n",
    "df['muscle reading 1 sensor 6']=np.where(df['muscle reading 1 sensor 6']<lrm1s6,lrm1s6,df['muscle reading 1 sensor 6'])\n",
    "\n",
    "lrm1s7,urm1s7=remove_outlier(df['muscle reading 1 sensor 7'])\n",
    "df['muscle reading 1 sensor 7']=np.where(df['muscle reading 1 sensor 7']>urm1s7,urm1s7,df['muscle reading 1 sensor 7'])\n",
    "df['muscle reading 1 sensor 7']=np.where(df['muscle reading 1 sensor 7']<lrm1s7,lrm1s7,df['muscle reading 1 sensor 7'])\n",
    "\n",
    "\n",
    "lrm1s8,urm1s8=remove_outlier(df['muscle reading 1 sensor 8'])\n",
    "df['muscle reading 1 sensor 8']=np.where(df['muscle reading 1 sensor 8']>urm1s8,urm1s8,df['muscle reading 1 sensor 8'])\n",
    "df['muscle reading 1 sensor 8']=np.where(df['muscle reading 1 sensor 8']<lrm1s8,lrm1s8,df['muscle reading 1 sensor 8'])\n",
    "\n",
    "\n",
    "df.shape"
   ]
  },
  {
   "cell_type": "code",
   "execution_count": null,
   "metadata": {
    "id": "KOUk8auk9338"
   },
   "outputs": [],
   "source": [
    "lrm2s1,urm2s1=remove_outlier(df['muscle reading 2 sensor 1'])\n",
    "df['muscle reading 2 sensor 1']=np.where(df['muscle reading 2 sensor 1']>urm2s1,urm2s1,df['muscle reading 2 sensor 1'])\n",
    "df['muscle reading 2 sensor 1']=np.where(df['muscle reading 2 sensor 1']<lrm2s1,lrm2s1,df['muscle reading 2 sensor 1'])\n",
    "\n",
    "\n",
    "lrm2s2,urm2s2=remove_outlier(df['muscle reading 2 sensor 2'])\n",
    "df['muscle reading 2 sensor 2']=np.where(df['muscle reading 2 sensor 2']>urm2s2,urm2s2,df['muscle reading 2 sensor 2'])\n",
    "df['muscle reading 2 sensor 2']=np.where(df['muscle reading 2 sensor 2']<lrm2s2,lrm2s2,df['muscle reading 2 sensor 2'])\n",
    "\n",
    "lrm2s3,urm2s3=remove_outlier(df['muscle reading 2 sensor 3'])\n",
    "df['muscle reading 2 sensor 3']=np.where(df['muscle reading 2 sensor 3']>urm2s3,urm2s3,df['muscle reading 2 sensor 3'])\n",
    "df['muscle reading 2 sensor 3']=np.where(df['muscle reading 2 sensor 3']<lrm2s3,lrm2s3,df['muscle reading 2 sensor 3'])\n",
    "\n",
    "lrm2s4,urm2s4=remove_outlier(df['muscle reading 2 sensor 4'])\n",
    "df['muscle reading 2 sensor 4']=np.where(df['muscle reading 2 sensor 4']>urm2s4,urm2s4,df['muscle reading 2 sensor 4'])\n",
    "df['muscle reading 2 sensor 4']=np.where(df['muscle reading 2 sensor 4']<lrm2s4,lrm2s4,df['muscle reading 2 sensor 4'])\n",
    "\n",
    "\n",
    "lrm2s5,urm2s5=remove_outlier(df['muscle reading 2 sensor 5'])\n",
    "df['muscle reading 2 sensor 5']=np.where(df['muscle reading 2 sensor 5']>urm2s5,urm2s5,df['muscle reading 2 sensor 5'])\n",
    "df['muscle reading 2 sensor 5']=np.where(df['muscle reading 2 sensor 5']<lrm2s5,lrm2s5,df['muscle reading 2 sensor 5'])\n",
    "\n",
    "lrm2s6,urm2s6=remove_outlier(df['muscle reading 2 sensor 6'])\n",
    "df['muscle reading 2 sensor 6']=np.where(df['muscle reading 2 sensor 6']>urm2s6,urm2s6,df['muscle reading 2 sensor 6'])\n",
    "df['muscle reading 2 sensor 6']=np.where(df['muscle reading 2 sensor 6']<lrm2s6,lrm2s6,df['muscle reading 2 sensor 6'])\n",
    "\n",
    "lrm2s7,urm2s7=remove_outlier(df['muscle reading 2 sensor 7'])\n",
    "df['muscle reading 2 sensor 7']=np.where(df['muscle reading 2 sensor 7']>urm2s7,urm2s7,df['muscle reading 2 sensor 7'])\n",
    "df['muscle reading 2 sensor 7']=np.where(df['muscle reading 2 sensor 7']<lrm2s7,lrm2s7,df['muscle reading 2 sensor 7'])\n",
    "\n",
    "\n",
    "lrm2s8,urm2s8=remove_outlier(df['muscle reading 2 sensor 8'])\n",
    "df['muscle reading 2 sensor 8']=np.where(df['muscle reading 2 sensor 8']>urm2s8,urm2s8,df['muscle reading 2 sensor 8'])\n",
    "df['muscle reading 2 sensor 8']=np.where(df['muscle reading 2 sensor 8']<lrm2s8,lrm2s8,df['muscle reading 2 sensor 8'])\n",
    "\n"
   ]
  },
  {
   "cell_type": "code",
   "execution_count": null,
   "metadata": {
    "id": "JUBcC4vQ9339"
   },
   "outputs": [],
   "source": [
    "lrm3s1,urm3s1=remove_outlier(df['muscle reading 3 sensor 1'])\n",
    "df['muscle reading 3 sensor 1']=np.where(df['muscle reading 3 sensor 1']>urm3s1,urm3s1,df['muscle reading 3 sensor 1'])\n",
    "df['muscle reading 3 sensor 1']=np.where(df['muscle reading 3 sensor 1']<lrm3s1,lrm3s1,df['muscle reading 3 sensor 1'])\n",
    "\n",
    "\n",
    "lrm3s2,urm3s2=remove_outlier(df['muscle reading 3 sensor 2'])\n",
    "df['muscle reading 3 sensor 2']=np.where(df['muscle reading 3 sensor 2']>urm3s2,urm3s2,df['muscle reading 3 sensor 2'])\n",
    "df['muscle reading 3 sensor 2']=np.where(df['muscle reading 3 sensor 2']<lrm3s2,lrm3s2,df['muscle reading 3 sensor 2'])\n",
    "\n",
    "lrm3s3,urm3s3=remove_outlier(df['muscle reading 3 sensor 3'])\n",
    "df['muscle reading 3 sensor 3']=np.where(df['muscle reading 3 sensor 3']>urm3s3,urm3s3,df['muscle reading 3 sensor 3'])\n",
    "df['muscle reading 3 sensor 3']=np.where(df['muscle reading 3 sensor 3']<lrm3s3,lrm3s3,df['muscle reading 3 sensor 3'])\n",
    "\n",
    "lrm3s4,urm3s4=remove_outlier(df['muscle reading 3 sensor 4'])\n",
    "df['muscle reading 3 sensor 4']=np.where(df['muscle reading 3 sensor 4']>urm3s4,urm3s4,df['muscle reading 3 sensor 4'])\n",
    "df['muscle reading 3 sensor 4']=np.where(df['muscle reading 3 sensor 4']<lrm3s4,lrm3s4,df['muscle reading 3 sensor 4'])\n",
    "\n",
    "\n",
    "lrm3s5,urm3s5=remove_outlier(df['muscle reading 3 sensor 5'])\n",
    "df['muscle reading 3 sensor 5']=np.where(df['muscle reading 3 sensor 5']>urm3s5,urm3s5,df['muscle reading 3 sensor 5'])\n",
    "df['muscle reading 3 sensor 5']=np.where(df['muscle reading 3 sensor 5']<lrm3s5,lrm3s5,df['muscle reading 3 sensor 5'])\n",
    "\n",
    "lrm3s6,urm3s6=remove_outlier(df['muscle reading 3 sensor 6'])\n",
    "df['muscle reading 3 sensor 6']=np.where(df['muscle reading 3 sensor 6']>urm3s6,urm3s6,df['muscle reading 3 sensor 6'])\n",
    "df['muscle reading 3 sensor 6']=np.where(df['muscle reading 3 sensor 6']<lrm3s6,lrm3s6,df['muscle reading 3 sensor 6'])\n",
    "\n",
    "lrm3s7,urm3s7=remove_outlier(df['muscle reading 3 sensor 7'])\n",
    "df['muscle reading 3 sensor 7']=np.where(df['muscle reading 3 sensor 7']>urm3s7,urm3s7,df['muscle reading 3 sensor 7'])\n",
    "df['muscle reading 3 sensor 7']=np.where(df['muscle reading 3 sensor 7']<lrm3s7,lrm3s7,df['muscle reading 3 sensor 7'])\n",
    "\n",
    "\n",
    "lrm3s8,urm3s8=remove_outlier(df['muscle reading 3 sensor 8'])\n",
    "df['muscle reading 3 sensor 8']=np.where(df['muscle reading 3 sensor 8']>urm3s8,urm3s8,df['muscle reading 3 sensor 8'])\n",
    "df['muscle reading 3 sensor 8']=np.where(df['muscle reading 3 sensor 8']<lrm3s8,lrm3s8,df['muscle reading 3 sensor 8'])\n"
   ]
  },
  {
   "cell_type": "code",
   "execution_count": null,
   "metadata": {
    "id": "S5VBOkQ_9339"
   },
   "outputs": [],
   "source": [
    "lrm4s1,urm4s1=remove_outlier(df['muscle reading 4 sensor 1'])\n",
    "df['muscle reading 4 sensor 1']=np.where(df['muscle reading 4 sensor 1']>urm4s1,urm4s1,df['muscle reading 4 sensor 1'])\n",
    "df['muscle reading 4 sensor 1']=np.where(df['muscle reading 4 sensor 1']<lrm4s1,lrm4s1,df['muscle reading 4 sensor 1'])\n",
    "\n",
    "\n",
    "lrm4s2,urm4s2=remove_outlier(df['muscle reading 4 sensor 2'])\n",
    "df['muscle reading 4 sensor 2']=np.where(df['muscle reading 4 sensor 2']>urm4s2,urm4s2,df['muscle reading 4 sensor 2'])\n",
    "df['muscle reading 4 sensor 2']=np.where(df['muscle reading 4 sensor 2']<lrm4s2,lrm4s2,df['muscle reading 4 sensor 2'])\n",
    "\n",
    "lrm4s3,urm4s3=remove_outlier(df['muscle reading 4 sensor 3'])\n",
    "df['muscle reading 4 sensor 3']=np.where(df['muscle reading 4 sensor 3']>urm4s3,urm4s3,df['muscle reading 4 sensor 3'])\n",
    "df['muscle reading 4 sensor 3']=np.where(df['muscle reading 4 sensor 3']<lrm4s3,lrm4s3,df['muscle reading 4 sensor 3'])\n",
    "\n",
    "lrm4s4,urm4s4=remove_outlier(df['muscle reading 4 sensor 4'])\n",
    "df['muscle reading 4 sensor 4']=np.where(df['muscle reading 4 sensor 4']>urm4s4,urm4s4,df['muscle reading 4 sensor 4'])\n",
    "df['muscle reading 4 sensor 4']=np.where(df['muscle reading 4 sensor 4']<lrm4s4,lrm4s4,df['muscle reading 4 sensor 4'])\n",
    "\n",
    "\n",
    "lrm4s5,urm4s5=remove_outlier(df['muscle reading 4 sensor 5'])\n",
    "df['muscle reading 4 sensor 5']=np.where(df['muscle reading 4 sensor 5']>urm4s5,urm4s5,df['muscle reading 4 sensor 5'])\n",
    "df['muscle reading 4 sensor 5']=np.where(df['muscle reading 4 sensor 5']<lrm4s5,lrm4s5,df['muscle reading 4 sensor 5'])\n",
    "\n",
    "lrm4s6,urm4s6=remove_outlier(df['muscle reading 4 sensor 6'])\n",
    "df['muscle reading 4 sensor 6']=np.where(df['muscle reading 4 sensor 6']>urm4s6,urm4s6,df['muscle reading 4 sensor 6'])\n",
    "df['muscle reading 4 sensor 6']=np.where(df['muscle reading 4 sensor 6']<lrm4s6,lrm4s6,df['muscle reading 4 sensor 6'])\n",
    "\n",
    "lrm4s7,urm4s7=remove_outlier(df['muscle reading 4 sensor 7'])\n",
    "df['muscle reading 4 sensor 7']=np.where(df['muscle reading 4 sensor 7']>urm4s7,urm4s7,df['muscle reading 4 sensor 7'])\n",
    "df['muscle reading 4 sensor 7']=np.where(df['muscle reading 4 sensor 7']<lrm4s7,lrm4s7,df['muscle reading 4 sensor 7'])\n",
    "\n",
    "\n",
    "lrm4s8,urm4s8=remove_outlier(df['muscle reading 4 sensor 8'])\n",
    "df['muscle reading 4 sensor 8']=np.where(df['muscle reading 4 sensor 8']>urm4s8,urm4s8,df['muscle reading 4 sensor 8'])\n",
    "df['muscle reading 4 sensor 8']=np.where(df['muscle reading 4 sensor 8']<lrm4s8,lrm4s8,df['muscle reading 4 sensor 8'])\n"
   ]
  },
  {
   "cell_type": "code",
   "execution_count": null,
   "metadata": {
    "id": "k2OdzR-K933-"
   },
   "outputs": [],
   "source": [
    "lrm5s1,urm5s1=remove_outlier(df['muscle reading 5 sensor 1'])\n",
    "df['muscle reading 5 sensor 1']=np.where(df['muscle reading 5 sensor 1']>urm5s1,urm5s1,df['muscle reading 5 sensor 1'])\n",
    "df['muscle reading 5 sensor 1']=np.where(df['muscle reading 5 sensor 1']<lrm5s1,lrm5s1,df['muscle reading 5 sensor 1'])\n",
    "\n",
    "\n",
    "lrm5s2,urm5s2=remove_outlier(df['muscle reading 5 sensor 2'])\n",
    "df['muscle reading 5 sensor 2']=np.where(df['muscle reading 5 sensor 2']>urm5s2,urm5s2,df['muscle reading 5 sensor 2'])\n",
    "df['muscle reading 5 sensor 2']=np.where(df['muscle reading 5 sensor 2']<lrm5s2,lrm5s2,df['muscle reading 5 sensor 2'])\n",
    "\n",
    "lrm5s3,urm5s3=remove_outlier(df['muscle reading 5 sensor 3'])\n",
    "df['muscle reading 5 sensor 3']=np.where(df['muscle reading 5 sensor 3']>urm5s3,urm5s3,df['muscle reading 5 sensor 3'])\n",
    "df['muscle reading 5 sensor 3']=np.where(df['muscle reading 5 sensor 3']<lrm5s3,lrm5s3,df['muscle reading 5 sensor 3'])\n",
    "\n",
    "lrm5s4,urm5s4=remove_outlier(df['muscle reading 5 sensor 4'])\n",
    "df['muscle reading 5 sensor 4']=np.where(df['muscle reading 5 sensor 4']>urm5s4,urm5s4,df['muscle reading 5 sensor 4'])\n",
    "df['muscle reading 5 sensor 4']=np.where(df['muscle reading 5 sensor 4']<lrm5s4,lrm5s4,df['muscle reading 5 sensor 4'])\n",
    "\n",
    "\n",
    "lrm5s5,urm5s5=remove_outlier(df['muscle reading 5 sensor 5'])\n",
    "df['muscle reading 5 sensor 5']=np.where(df['muscle reading 5 sensor 5']>urm5s5,urm5s5,df['muscle reading 5 sensor 5'])\n",
    "df['muscle reading 5 sensor 5']=np.where(df['muscle reading 5 sensor 5']<lrm5s5,lrm5s5,df['muscle reading 5 sensor 5'])\n",
    "\n",
    "lrm5s6,urm5s6=remove_outlier(df['muscle reading 5 sensor 6'])\n",
    "df['muscle reading 5 sensor 6']=np.where(df['muscle reading 5 sensor 6']>urm5s6,urm5s6,df['muscle reading 5 sensor 6'])\n",
    "df['muscle reading 5 sensor 6']=np.where(df['muscle reading 5 sensor 6']<lrm5s6,lrm5s6,df['muscle reading 5 sensor 6'])\n",
    "\n",
    "lrm5s7,urm5s7=remove_outlier(df['muscle reading 5 sensor 7'])\n",
    "df['muscle reading 5 sensor 7']=np.where(df['muscle reading 5 sensor 7']>urm5s7,urm5s7,df['muscle reading 5 sensor 7'])\n",
    "df['muscle reading 5 sensor 7']=np.where(df['muscle reading 5 sensor 7']<lrm5s7,lrm5s7,df['muscle reading 5 sensor 7'])\n",
    "\n",
    "\n",
    "lrm5s8,urm5s8=remove_outlier(df['muscle reading 5 sensor 8'])\n",
    "df['muscle reading 5 sensor 8']=np.where(df['muscle reading 5 sensor 8']>urm5s8,urm5s8,df['muscle reading 5 sensor 8'])\n",
    "df['muscle reading 5 sensor 8']=np.where(df['muscle reading 5 sensor 8']<lrm5s8,lrm5s8,df['muscle reading 5 sensor 8'])\n"
   ]
  },
  {
   "cell_type": "code",
   "execution_count": null,
   "metadata": {
    "id": "m9CIsaks933-"
   },
   "outputs": [],
   "source": [
    "lrm6s1,urm6s1=remove_outlier(df['muscle reading 6 sensor 1'])\n",
    "df['muscle reading 6 sensor 1']=np.where(df['muscle reading 6 sensor 1']>urm6s1,urm6s1,df['muscle reading 6 sensor 1'])\n",
    "df['muscle reading 6 sensor 1']=np.where(df['muscle reading 6 sensor 1']<lrm6s1,lrm6s1,df['muscle reading 6 sensor 1'])\n",
    "\n",
    "\n",
    "lrm6s2,urm6s2=remove_outlier(df['muscle reading 6 sensor 2'])\n",
    "df['muscle reading 6 sensor 2']=np.where(df['muscle reading 6 sensor 2']>urm6s2,urm6s2,df['muscle reading 6 sensor 2'])\n",
    "df['muscle reading 6 sensor 2']=np.where(df['muscle reading 6 sensor 2']<lrm6s2,lrm6s2,df['muscle reading 6 sensor 2'])\n",
    "\n",
    "lrm6s3,urm6s3=remove_outlier(df['muscle reading 6 sensor 3'])\n",
    "df['muscle reading 6 sensor 3']=np.where(df['muscle reading 6 sensor 3']>urm6s3,urm6s3,df['muscle reading 6 sensor 3'])\n",
    "df['muscle reading 6 sensor 3']=np.where(df['muscle reading 6 sensor 3']<lrm6s3,lrm6s3,df['muscle reading 6 sensor 3'])\n",
    "\n",
    "lrm6s4,urm6s4=remove_outlier(df['muscle reading 6 sensor 4'])\n",
    "df['muscle reading 6 sensor 4']=np.where(df['muscle reading 6 sensor 4']>urm6s4,urm6s4,df['muscle reading 6 sensor 4'])\n",
    "df['muscle reading 6 sensor 4']=np.where(df['muscle reading 6 sensor 4']<lrm6s4,lrm6s4,df['muscle reading 6 sensor 4'])\n",
    "\n",
    "\n",
    "lrm6s5,urm6s5=remove_outlier(df['muscle reading 6 sensor 5'])\n",
    "df['muscle reading 6 sensor 5']=np.where(df['muscle reading 6 sensor 5']>urm6s5,urm6s5,df['muscle reading 6 sensor 5'])\n",
    "df['muscle reading 6 sensor 5']=np.where(df['muscle reading 6 sensor 5']<lrm6s5,lrm6s5,df['muscle reading 6 sensor 5'])\n",
    "\n",
    "lrm6s6,urm6s6=remove_outlier(df['muscle reading 6 sensor 6'])\n",
    "df['muscle reading 6 sensor 6']=np.where(df['muscle reading 6 sensor 6']>urm6s6,urm6s6,df['muscle reading 6 sensor 6'])\n",
    "df['muscle reading 6 sensor 6']=np.where(df['muscle reading 6 sensor 6']<lrm6s6,lrm6s6,df['muscle reading 6 sensor 6'])\n",
    "\n",
    "lrm6s7,urm6s7=remove_outlier(df['muscle reading 6 sensor 7'])\n",
    "df['muscle reading 6 sensor 7']=np.where(df['muscle reading 6 sensor 7']>urm6s7,urm6s7,df['muscle reading 6 sensor 7'])\n",
    "df['muscle reading 6 sensor 7']=np.where(df['muscle reading 6 sensor 7']<lrm6s7,lrm6s7,df['muscle reading 6 sensor 7'])\n",
    "\n",
    "\n",
    "lrm6s8,urm6s8=remove_outlier(df['muscle reading 6 sensor 8'])\n",
    "df['muscle reading 6 sensor 8']=np.where(df['muscle reading 6 sensor 8']>urm6s8,urm6s8,df['muscle reading 6 sensor 8'])\n",
    "df['muscle reading 6 sensor 8']=np.where(df['muscle reading 6 sensor 8']<lrm6s8,lrm6s8,df['muscle reading 6 sensor 8'])\n"
   ]
  },
  {
   "cell_type": "code",
   "execution_count": null,
   "metadata": {
    "id": "W4eNBj-v933-"
   },
   "outputs": [],
   "source": [
    "lrm7s1,urm7s1=remove_outlier(df['muscle reading 7 sensor 1'])\n",
    "df['muscle reading 7 sensor 1']=np.where(df['muscle reading 7 sensor 1']>urm7s1,urm7s1,df['muscle reading 7 sensor 1'])\n",
    "df['muscle reading 7 sensor 1']=np.where(df['muscle reading 7 sensor 1']<lrm7s1,lrm7s1,df['muscle reading 7 sensor 1'])\n",
    "\n",
    "\n",
    "lrm7s2,urm7s2=remove_outlier(df['muscle reading 7 sensor 2'])\n",
    "df['muscle reading 7 sensor 2']=np.where(df['muscle reading 7 sensor 2']>urm7s2,urm7s2,df['muscle reading 7 sensor 2'])\n",
    "df['muscle reading 7 sensor 2']=np.where(df['muscle reading 7 sensor 2']<lrm7s2,lrm7s2,df['muscle reading 7 sensor 2'])\n",
    "\n",
    "lrm7s3,urm7s3=remove_outlier(df['muscle reading 7 sensor 3'])\n",
    "df['muscle reading 7 sensor 3']=np.where(df['muscle reading 7 sensor 3']>urm7s3,urm7s3,df['muscle reading 7 sensor 3'])\n",
    "df['muscle reading 7 sensor 3']=np.where(df['muscle reading 7 sensor 3']<lrm7s3,lrm7s3,df['muscle reading 7 sensor 3'])\n",
    "\n",
    "lrm7s4,urm7s4=remove_outlier(df['muscle reading 7 sensor 4'])\n",
    "df['muscle reading 7 sensor 4']=np.where(df['muscle reading 7 sensor 4']>urm7s4,urm7s4,df['muscle reading 7 sensor 4'])\n",
    "df['muscle reading 7 sensor 4']=np.where(df['muscle reading 7 sensor 4']<lrm7s4,lrm7s4,df['muscle reading 7 sensor 4'])\n",
    "\n",
    "\n",
    "lrm7s5,urm7s5=remove_outlier(df['muscle reading 7 sensor 5'])\n",
    "df['muscle reading 7 sensor 5']=np.where(df['muscle reading 7 sensor 5']>urm7s5,urm7s5,df['muscle reading 7 sensor 5'])\n",
    "df['muscle reading 7 sensor 5']=np.where(df['muscle reading 7 sensor 5']<lrm7s5,lrm7s5,df['muscle reading 7 sensor 5'])\n",
    "\n",
    "lrm7s6,urm7s6=remove_outlier(df['muscle reading 7 sensor 6'])\n",
    "df['muscle reading 7 sensor 6']=np.where(df['muscle reading 7 sensor 6']>urm7s6,urm7s6,df['muscle reading 7 sensor 6'])\n",
    "df['muscle reading 7 sensor 6']=np.where(df['muscle reading 7 sensor 6']<lrm7s6,lrm7s6,df['muscle reading 7 sensor 6'])\n",
    "\n",
    "lrm7s7,urm7s7=remove_outlier(df['muscle reading 7 sensor 7'])\n",
    "df['muscle reading 7 sensor 7']=np.where(df['muscle reading 7 sensor 7']>urm7s7,urm7s7,df['muscle reading 7 sensor 7'])\n",
    "df['muscle reading 7 sensor 7']=np.where(df['muscle reading 7 sensor 7']<lrm7s7,lrm7s7,df['muscle reading 7 sensor 7'])\n",
    "\n",
    "\n",
    "lrm7s8,urm7s8=remove_outlier(df['muscle reading 7 sensor 8'])\n",
    "df['muscle reading 7 sensor 8']=np.where(df['muscle reading 7 sensor 8']>urm7s8,urm7s8,df['muscle reading 7 sensor 8'])\n",
    "df['muscle reading 7 sensor 8']=np.where(df['muscle reading 7 sensor 8']<lrm7s8,lrm7s8,df['muscle reading 7 sensor 8'])\n"
   ]
  },
  {
   "cell_type": "code",
   "execution_count": null,
   "metadata": {
    "id": "fW1jiPmF933_"
   },
   "outputs": [],
   "source": [
    "lrm8s1,urm8s1=remove_outlier(df['muscle reading 8 sensor 1'])\n",
    "df['muscle reading 8 sensor 1']=np.where(df['muscle reading 8 sensor 1']>urm8s1,urm8s1,df['muscle reading 8 sensor 1'])\n",
    "df['muscle reading 8 sensor 1']=np.where(df['muscle reading 8 sensor 1']<lrm8s1,lrm8s1,df['muscle reading 8 sensor 1'])\n",
    "\n",
    "\n",
    "lrm8s2,urm8s2=remove_outlier(df['muscle reading 8 sensor 2'])\n",
    "df['muscle reading 8 sensor 2']=np.where(df['muscle reading 8 sensor 2']>urm8s2,urm8s2,df['muscle reading 8 sensor 2'])\n",
    "df['muscle reading 8 sensor 2']=np.where(df['muscle reading 8 sensor 2']<lrm8s2,lrm8s2,df['muscle reading 8 sensor 2'])\n",
    "\n",
    "lrm8s3,urm8s3=remove_outlier(df['muscle reading 8 sensor 3'])\n",
    "df['muscle reading 8 sensor 3']=np.where(df['muscle reading 8 sensor 3']>urm8s3,urm8s3,df['muscle reading 8 sensor 3'])\n",
    "df['muscle reading 8 sensor 3']=np.where(df['muscle reading 8 sensor 3']<lrm8s3,lrm8s3,df['muscle reading 8 sensor 3'])\n",
    "\n",
    "lrm8s4,urm8s4=remove_outlier(df['muscle reading 8 sensor 4'])\n",
    "df['muscle reading 8 sensor 4']=np.where(df['muscle reading 8 sensor 4']>urm8s4,urm8s4,df['muscle reading 8 sensor 4'])\n",
    "df['muscle reading 8 sensor 4']=np.where(df['muscle reading 8 sensor 4']<lrm8s4,lrm8s4,df['muscle reading 8 sensor 4'])\n",
    "\n",
    "\n",
    "lrm8s5,urm8s5=remove_outlier(df['muscle reading 8 sensor 5'])\n",
    "df['muscle reading 8 sensor 5']=np.where(df['muscle reading 8 sensor 5']>urm8s5,urm8s5,df['muscle reading 8 sensor 5'])\n",
    "df['muscle reading 8 sensor 5']=np.where(df['muscle reading 8 sensor 5']<lrm8s5,lrm8s5,df['muscle reading 8 sensor 5'])\n",
    "\n",
    "lrm8s6,urm8s6=remove_outlier(df['muscle reading 8 sensor 6'])\n",
    "df['muscle reading 8 sensor 6']=np.where(df['muscle reading 8 sensor 6']>urm8s6,urm8s6,df['muscle reading 8 sensor 6'])\n",
    "df['muscle reading 8 sensor 6']=np.where(df['muscle reading 8 sensor 6']<lrm8s6,lrm8s6,df['muscle reading 8 sensor 6'])\n",
    "\n",
    "lrm8s7,urm8s7=remove_outlier(df['muscle reading 8 sensor 7'])\n",
    "df['muscle reading 8 sensor 7']=np.where(df['muscle reading 8 sensor 7']>urm8s7,urm8s7,df['muscle reading 8 sensor 7'])\n",
    "df['muscle reading 8 sensor 7']=np.where(df['muscle reading 8 sensor 7']<lrm8s7,lrm8s7,df['muscle reading 8 sensor 7'])\n",
    "\n",
    "\n",
    "lrm8s8,urm8s8=remove_outlier(df['muscle reading 8 sensor 8'])\n",
    "df['muscle reading 8 sensor 8']=np.where(df['muscle reading 8 sensor 8']>urm8s8,urm8s8,df['muscle reading 8 sensor 8'])\n",
    "df['muscle reading 8 sensor 8']=np.where(df['muscle reading 8 sensor 8']<lrm8s8,lrm8s8,df['muscle reading 8 sensor 8'])\n"
   ]
  },
  {
   "cell_type": "markdown",
   "metadata": {
    "id": "9DKxh9qp933_"
   },
   "source": [
    "## Making BOXPLOTS after OUTLIER Treatment"
   ]
  },
  {
   "cell_type": "code",
   "execution_count": null,
   "metadata": {
    "id": "_yMxPRQs933_",
    "outputId": "6b082c8e-787a-46da-e455-496bdf960323"
   },
   "outputs": [],
   "source": [
    "# construct box plot for continuous variables\n",
    "plt.figure(figsize=(15,15))\n",
    "df[['muscle reading 1 sensor 1', 'muscle reading 1 sensor 2', 'muscle reading 1 sensor 3', 'muscle reading 1 sensor 4', 'muscle reading 1 sensor 5', 'muscle reading 1 sensor 6', \n",
    "                   'muscle reading 1 sensor 7','muscle reading 1 sensor 8']].boxplot(vert=0)"
   ]
  },
  {
   "cell_type": "code",
   "execution_count": null,
   "metadata": {
    "id": "2JM0Xuw5934A",
    "outputId": "9ee7ba42-f76e-4666-ea9a-8f850a6b1a0d"
   },
   "outputs": [],
   "source": [
    "# construct box plot for continuous variables\n",
    "plt.figure(figsize=(15,15))\n",
    "df[['muscle reading 2 sensor 1', 'muscle reading 2 sensor 2', 'muscle reading 2 sensor 3', 'muscle reading 2 sensor 4', 'muscle reading 2 sensor 5', 'muscle reading 2 sensor 6', \n",
    "                   'muscle reading 2 sensor 7','muscle reading 2 sensor 8']].boxplot(vert=0)"
   ]
  },
  {
   "cell_type": "code",
   "execution_count": null,
   "metadata": {
    "id": "-msVyiaj934A",
    "outputId": "4653dab2-b78e-4faf-cd77-5e525326bccb"
   },
   "outputs": [],
   "source": [
    "# construct box plot for continuous variables\n",
    "plt.figure(figsize=(15,15))\n",
    "df[['muscle reading 3 sensor 1', 'muscle reading 3 sensor 2', 'muscle reading 3 sensor 3', 'muscle reading 3 sensor 4', 'muscle reading 3 sensor 5', 'muscle reading 3 sensor 6', \n",
    "                   'muscle reading 3 sensor 7','muscle reading 3 sensor 8']].boxplot(vert=0)"
   ]
  },
  {
   "cell_type": "code",
   "execution_count": null,
   "metadata": {
    "id": "SraZFW2p934A",
    "outputId": "01a9385b-92d2-4a07-a36d-a2fea3ed18ff"
   },
   "outputs": [],
   "source": [
    "# construct box plot for continuous variables\n",
    "plt.figure(figsize=(15,15))\n",
    "df[['muscle reading 4 sensor 1', 'muscle reading 4 sensor 2', 'muscle reading 4 sensor 3', 'muscle reading 4 sensor 4', 'muscle reading 4 sensor 5', 'muscle reading 4 sensor 6', \n",
    "                   'muscle reading 4 sensor 7','muscle reading 4 sensor 8']].boxplot(vert=0)"
   ]
  },
  {
   "cell_type": "code",
   "execution_count": null,
   "metadata": {
    "id": "m1AMrAqa934B",
    "outputId": "209f1e3d-4c17-4afc-edd2-2ebef5eb6bb9"
   },
   "outputs": [],
   "source": [
    "# construct box plot for continuous variables\n",
    "plt.figure(figsize=(15,15))\n",
    "df[['muscle reading 5 sensor 1', 'muscle reading 5 sensor 2', 'muscle reading 5 sensor 3', 'muscle reading 5 sensor 4', 'muscle reading 5 sensor 5', 'muscle reading 5 sensor 6', \n",
    "                   'muscle reading 5 sensor 7','muscle reading 5 sensor 8']].boxplot(vert=0)"
   ]
  },
  {
   "cell_type": "code",
   "execution_count": null,
   "metadata": {
    "id": "qi7Bie6X934B",
    "outputId": "e8a0e08a-c1da-450d-d6a0-1dfa9070b903"
   },
   "outputs": [],
   "source": [
    "# construct box plot for continuous variables\n",
    "plt.figure(figsize=(15,15))\n",
    "df[['muscle reading 6 sensor 1', 'muscle reading 6 sensor 2', 'muscle reading 6 sensor 3', 'muscle reading 6 sensor 4', 'muscle reading 6 sensor 5', 'muscle reading 6 sensor 6', \n",
    "                   'muscle reading 6 sensor 7','muscle reading 6 sensor 8']].boxplot(vert=0)"
   ]
  },
  {
   "cell_type": "code",
   "execution_count": null,
   "metadata": {
    "id": "7Cra-UBF934B",
    "outputId": "72451594-d06f-4d7b-9057-5270a1b37a77"
   },
   "outputs": [],
   "source": [
    "# construct box plot for continuous variables\n",
    "plt.figure(figsize=(15,15))\n",
    "df[['muscle reading 7 sensor 1', 'muscle reading 7 sensor 2', 'muscle reading 7 sensor 3', 'muscle reading 7 sensor 4', 'muscle reading 7 sensor 5', 'muscle reading 7 sensor 6', \n",
    "                   'muscle reading 7 sensor 7','muscle reading 7 sensor 8']].boxplot(vert=0)"
   ]
  },
  {
   "cell_type": "code",
   "execution_count": null,
   "metadata": {
    "id": "Vnu_lMaU934C",
    "outputId": "68e32297-e789-4845-cd68-775b60d88dfc"
   },
   "outputs": [],
   "source": [
    "# construct box plot for continuous variables\n",
    "plt.figure(figsize=(15,15))\n",
    "df[['muscle reading 8 sensor 1', 'muscle reading 8 sensor 2', 'muscle reading 8 sensor 3', 'muscle reading 8 sensor 4', 'muscle reading 8 sensor 5', 'muscle reading 8 sensor 6', \n",
    "                   'muscle reading 8 sensor 7','muscle reading 8 sensor 8']].boxplot(vert=0)"
   ]
  },
  {
   "cell_type": "markdown",
   "metadata": {
    "id": "lUe2Gbpo934C"
   },
   "source": [
    "# Univariate Analysis"
   ]
  },
  {
   "cell_type": "code",
   "execution_count": null,
   "metadata": {
    "id": "qHltCiOT934C",
    "outputId": "fa7ffc49-0f60-46b0-eaa1-124f33e0a16c"
   },
   "outputs": [],
   "source": [
    "sns.distplot(df.gesture_class,bins=20)  # histogram of guester_class"
   ]
  },
  {
   "cell_type": "markdown",
   "metadata": {
    "id": "LxhpFJg5934C"
   },
   "source": [
    "**From the above figure, we can say that the 'gesture_class' Parameter Skewness is near to zero.**"
   ]
  },
  {
   "cell_type": "code",
   "execution_count": null,
   "metadata": {
    "id": "qK8gj5BC934D",
    "outputId": "5cdc6d06-3399-48ce-fbc7-4a45fd7a35ac"
   },
   "outputs": [],
   "source": [
    "plt.figure(figsize=(20,9))\n",
    "sns.countplot(df[\"gesture_class\"]) "
   ]
  },
  {
   "cell_type": "markdown",
   "metadata": {
    "id": "PdwFdhtZ934D"
   },
   "source": [
    "# Bivariate Analysis"
   ]
  },
  {
   "cell_type": "code",
   "execution_count": null,
   "metadata": {
    "id": "r0goSu9y934D",
    "outputId": "a253f62c-ead9-4b26-afa8-dbae0a220ab5"
   },
   "outputs": [],
   "source": [
    "plt.figure(figsize=(9,5))\n",
    "sns.pairplot(df)\n",
    "plt.show()"
   ]
  },
  {
   "cell_type": "markdown",
   "metadata": {
    "id": "z2bKVf5q934E"
   },
   "source": [
    "**In the above plot scatter diagrams are plotted for all the numerical columns in the dataset. A scatter plot is a visual representation of the degree of correlation between any two columns. The pair plot function in seaborn makes it very easy to generate joint scatter plots for all the columns in the data.**"
   ]
  },
  {
   "cell_type": "code",
   "execution_count": null,
   "metadata": {
    "id": "jvUqwm5s934E",
    "outputId": "a9d6e4e9-b9d2-4bea-cfc6-582c61c7e75c"
   },
   "outputs": [],
   "source": [
    "df.corr()"
   ]
  },
  {
   "cell_type": "markdown",
   "metadata": {
    "id": "z8c_bBn8934E"
   },
   "source": [
    "# Correlation Heatmap"
   ]
  },
  {
   "cell_type": "code",
   "execution_count": null,
   "metadata": {
    "id": "13YiMYFZ934F",
    "outputId": "3040cd68-14ca-4c39-c5f7-5463bc756ae9"
   },
   "outputs": [],
   "source": [
    "plt.figure(figsize=(40,20))\n",
    "sns.heatmap(df.corr(), annot=True, fmt='.2f', cmap='Blues')\n",
    "plt.show()"
   ]
  },
  {
   "cell_type": "markdown",
   "metadata": {
    "id": "2UUW7wj3934F"
   },
   "source": [
    "# 3.) STANDARDIZE THE DATA"
   ]
  },
  {
   "cell_type": "markdown",
   "metadata": {
    "id": "VKCYUF2g934F"
   },
   "source": [
    "## Normalizing and Scaling"
   ]
  },
  {
   "cell_type": "markdown",
   "metadata": {
    "id": "2IrLjS1M934F"
   },
   "source": [
    "**Often the variables of the data set are of different scales i.e. one variable is in millions and other in only 100. \n",
    "For e.g. in our data set 'muscle reading 1 sensor 1 is having values in single digit negative and 'muscle reading 8 sensor 7 in three digits positive numbers.\n",
    "Since the data in these variables are of different scales, it is tough to compare these variables.**"
   ]
  },
  {
   "cell_type": "markdown",
   "metadata": {
    "id": "mTGD8rZC934G"
   },
   "source": [
    "**Feature scaling (also known as data normalization) is the method used to standardize the range of features of data. \n",
    "Since, the range of values of data may vary widely, it becomes a necessary step in data preprocessing while using machine learning algorithms.**"
   ]
  },
  {
   "cell_type": "markdown",
   "metadata": {
    "id": "K04LnGi5934G"
   },
   "source": [
    "**In this method, we convert variables with different scales of measurements into a single scale.**"
   ]
  },
  {
   "cell_type": "markdown",
   "metadata": {
    "id": "oATWKXAJ934G"
   },
   "source": [
    "**StandardScaler normalizes the data using the formula (x-mean)/standard deviation.\n",
    "We will be doing this only for the numerical variables.**"
   ]
  },
  {
   "cell_type": "code",
   "execution_count": null,
   "metadata": {
    "id": "NsDSvqj5934G",
    "outputId": "921f2e86-15a8-44b3-f25c-fd8a3292399d"
   },
   "outputs": [],
   "source": [
    "#Scales the data. Essentially returns the z-scores of every attribute\n",
    "from sklearn.preprocessing import StandardScaler\n",
    "std_scale = StandardScaler()\n",
    "std_scale"
   ]
  },
  {
   "cell_type": "code",
   "execution_count": null,
   "metadata": {
    "id": "2Su-4g4D934H",
    "outputId": "43d6f9d3-6d9a-45d1-ce5c-b61adcb35b15"
   },
   "outputs": [],
   "source": [
    "df['muscle reading 1 sensor 1'] = std_scale.fit_transform(df[['muscle reading 1 sensor 1']])\n",
    "df['muscle reading 1 sensor 2'] = std_scale.fit_transform(df[['muscle reading 1 sensor 2']])\n",
    "df['muscle reading 1 sensor 3'] = std_scale.fit_transform(df[['muscle reading 1 sensor 3']])\n",
    "df['muscle reading 1 sensor 4']= std_scale.fit_transform(df[['muscle reading 1 sensor 4']])\n",
    "df['muscle reading 1 sensor 5'] = std_scale.fit_transform(df[['muscle reading 1 sensor 5']])\n",
    "df['muscle reading 1 sensor 6'] = std_scale.fit_transform(df[['muscle reading 1 sensor 6']])\n",
    "df['muscle reading 1 sensor 7'] = std_scale.fit_transform(df[['muscle reading 1 sensor 7']])\n",
    "df['muscle reading 1 sensor 8']= std_scale.fit_transform(df[['muscle reading 1 sensor 8']])\n",
    "\n",
    "df['muscle reading 2 sensor 1'] = std_scale.fit_transform(df[['muscle reading 2 sensor 1']])\n",
    "df['muscle reading 2 sensor 2'] = std_scale.fit_transform(df[['muscle reading 2 sensor 2']])\n",
    "df['muscle reading 2 sensor 3'] = std_scale.fit_transform(df[['muscle reading 2 sensor 3']])\n",
    "df['muscle reading 2 sensor 4']= std_scale.fit_transform(df[['muscle reading 2 sensor 4']])\n",
    "df['muscle reading 2 sensor 5'] = std_scale.fit_transform(df[['muscle reading 2 sensor 5']])\n",
    "df['muscle reading 2 sensor 6'] = std_scale.fit_transform(df[['muscle reading 2 sensor 6']])\n",
    "df['muscle reading 2 sensor 7'] = std_scale.fit_transform(df[['muscle reading 2 sensor 7']])\n",
    "df['muscle reading 2 sensor 8']= std_scale.fit_transform(df[['muscle reading 2 sensor 8']])\n",
    "\n",
    "df['muscle reading 3 sensor 1'] = std_scale.fit_transform(df[['muscle reading 3 sensor 1']])\n",
    "df['muscle reading 3 sensor 2'] = std_scale.fit_transform(df[['muscle reading 3 sensor 2']])\n",
    "df['muscle reading 3 sensor 3'] = std_scale.fit_transform(df[['muscle reading 3 sensor 3']])\n",
    "df['muscle reading 3 sensor 4']= std_scale.fit_transform(df[['muscle reading 3 sensor 4']])\n",
    "df['muscle reading 3 sensor 5'] = std_scale.fit_transform(df[['muscle reading 3 sensor 5']])\n",
    "df['muscle reading 3 sensor 6'] = std_scale.fit_transform(df[['muscle reading 3 sensor 6']])\n",
    "df['muscle reading 3 sensor 7'] = std_scale.fit_transform(df[['muscle reading 3 sensor 7']])\n",
    "df['muscle reading 3 sensor 8']= std_scale.fit_transform(df[['muscle reading 3 sensor 8']])\n",
    "\n",
    "df['muscle reading 4 sensor 1'] = std_scale.fit_transform(df[['muscle reading 4 sensor 1']])\n",
    "df['muscle reading 4 sensor 2'] = std_scale.fit_transform(df[['muscle reading 4 sensor 2']])\n",
    "df['muscle reading 4 sensor 3'] = std_scale.fit_transform(df[['muscle reading 4 sensor 3']])\n",
    "df['muscle reading 4 sensor 4']= std_scale.fit_transform(df[['muscle reading 4 sensor 4']])\n",
    "df['muscle reading 4 sensor 5'] = std_scale.fit_transform(df[['muscle reading 4 sensor 5']])\n",
    "df['muscle reading 4 sensor 6'] = std_scale.fit_transform(df[['muscle reading 4 sensor 6']])\n",
    "df['muscle reading 4 sensor 7'] = std_scale.fit_transform(df[['muscle reading 4 sensor 7']])\n",
    "df['muscle reading 4 sensor 8']= std_scale.fit_transform(df[['muscle reading 4 sensor 8']])\n",
    "\n",
    "df['muscle reading 5 sensor 1'] = std_scale.fit_transform(df[['muscle reading 5 sensor 1']])\n",
    "df['muscle reading 5 sensor 2'] = std_scale.fit_transform(df[['muscle reading 5 sensor 2']])\n",
    "df['muscle reading 5 sensor 3'] = std_scale.fit_transform(df[['muscle reading 5 sensor 3']])\n",
    "df['muscle reading 5 sensor 4']= std_scale.fit_transform(df[['muscle reading 5 sensor 4']])\n",
    "df['muscle reading 5 sensor 5'] = std_scale.fit_transform(df[['muscle reading 5 sensor 5']])\n",
    "df['muscle reading 5 sensor 6'] = std_scale.fit_transform(df[['muscle reading 5 sensor 6']])\n",
    "df['muscle reading 5 sensor 7'] = std_scale.fit_transform(df[['muscle reading 5 sensor 7']])\n",
    "df['muscle reading 5 sensor 8']= std_scale.fit_transform(df[['muscle reading 5 sensor 8']])\n",
    "\n",
    "df['muscle reading 6 sensor 1'] = std_scale.fit_transform(df[['muscle reading 6 sensor 1']])\n",
    "df['muscle reading 6 sensor 2'] = std_scale.fit_transform(df[['muscle reading 6 sensor 2']])\n",
    "df['muscle reading 6 sensor 3'] = std_scale.fit_transform(df[['muscle reading 6 sensor 3']])\n",
    "df['muscle reading 6 sensor 4']= std_scale.fit_transform(df[['muscle reading 6 sensor 4']])\n",
    "df['muscle reading 6 sensor 5'] = std_scale.fit_transform(df[['muscle reading 6 sensor 5']])\n",
    "df['muscle reading 6 sensor 6'] = std_scale.fit_transform(df[['muscle reading 6 sensor 6']])\n",
    "df['muscle reading 6 sensor 7'] = std_scale.fit_transform(df[['muscle reading 6 sensor 7']])\n",
    "df['muscle reading 6 sensor 8']= std_scale.fit_transform(df[['muscle reading 6 sensor 8']])\n",
    "\n",
    "df['muscle reading 7 sensor 1'] = std_scale.fit_transform(df[['muscle reading 7 sensor 1']])\n",
    "df['muscle reading 7 sensor 2'] = std_scale.fit_transform(df[['muscle reading 7 sensor 2']])\n",
    "df['muscle reading 7 sensor 3'] = std_scale.fit_transform(df[['muscle reading 7 sensor 3']])\n",
    "df['muscle reading 7 sensor 4']= std_scale.fit_transform(df[['muscle reading 7 sensor 4']])\n",
    "df['muscle reading 7 sensor 5'] = std_scale.fit_transform(df[['muscle reading 7 sensor 5']])\n",
    "df['muscle reading 7 sensor 6'] = std_scale.fit_transform(df[['muscle reading 7 sensor 6']])\n",
    "df['muscle reading 7 sensor 7'] = std_scale.fit_transform(df[['muscle reading 7 sensor 7']])\n",
    "df['muscle reading 7 sensor 8']= std_scale.fit_transform(df[['muscle reading 7 sensor 8']])\n",
    "\n",
    "df['muscle reading 8 sensor 1'] = std_scale.fit_transform(df[['muscle reading 8 sensor 1']])\n",
    "df['muscle reading 8 sensor 2'] = std_scale.fit_transform(df[['muscle reading 8 sensor 2']])\n",
    "df['muscle reading 8 sensor 3'] = std_scale.fit_transform(df[['muscle reading 8 sensor 3']])\n",
    "df['muscle reading 8 sensor 4']= std_scale.fit_transform(df[['muscle reading 8 sensor 4']])\n",
    "df['muscle reading 8 sensor 5'] = std_scale.fit_transform(df[['muscle reading 8 sensor 5']])\n",
    "df['muscle reading 8 sensor 6'] = std_scale.fit_transform(df[['muscle reading 8 sensor 6']])\n",
    "df['muscle reading 8 sensor 7'] = std_scale.fit_transform(df[['muscle reading 8 sensor 7']])\n",
    "df['muscle reading 8 sensor 8']= std_scale.fit_transform(df[['muscle reading 8 sensor 8']])\n",
    "\n",
    "df['gesture_class']= std_scale.fit_transform(df[['gesture_class']])"
   ]
  },
  {
   "cell_type": "code",
   "execution_count": null,
   "metadata": {
    "id": "KuvHKIe9934H",
    "outputId": "9f3e4dec-13be-4582-b31e-edbe9f1efc90"
   },
   "outputs": [],
   "source": [
    "df.head()"
   ]
  },
  {
   "cell_type": "markdown",
   "metadata": {
    "id": "7EjWkmcz934J"
   },
   "source": [
    "**If you look at the variables, all has been normalized and scaled in one scale now.**"
   ]
  },
  {
   "cell_type": "markdown",
   "metadata": {
    "id": "O41WCO11934J"
   },
   "source": [
    "# 4.) ONE HOT ENCODE the Labels for Train and Test Data"
   ]
  },
  {
   "cell_type": "markdown",
   "metadata": {
    "id": "Bg3cq6U8934K"
   },
   "source": [
    "# ENCODING\n",
    "\n",
    "**One-Hot-Encoding is used to create dummy variables to replace the categories in a categorical variable into features of each category and represent it using 1 or 0 based on the presence or absence of the categorical value in the record.**\n",
    "\n",
    "**This is required to do since the machine learning algorithms only works on the numerical data. That is why there is a need to convert the categorical column into numerical one.**\n",
    "\n",
    "**get_dummies is the method which creates dummy variable for each categorical variable.**\n",
    "\n",
    "**It is considered a good practice to set parameter `drop_first` as `True` whenever get_dummies is used. It reduces the chances of multicollinearity and the number of features are also less as compared to `drop_first=False`**"
   ]
  },
  {
   "cell_type": "code",
   "execution_count": null,
   "metadata": {
    "colab": {
     "base_uri": "https://localhost:8080/",
     "height": 35
    },
    "id": "mEuBiRvb934K",
    "outputId": "b936afee-77bb-46f9-ffef-40a081f33da0"
   },
   "outputs": [],
   "source": [
    "%tensorflow_version 2.x\n",
    "import tensorflow\n",
    "tensorflow.__version__"
   ]
  },
  {
   "cell_type": "code",
   "execution_count": null,
   "metadata": {
    "id": "ipv3VXD8934K"
   },
   "outputs": [],
   "source": [
    "# Initialize the random number generator\n",
    "import random\n",
    "random.seed(0)\n",
    "\n",
    "# Ignore the warnings\n",
    "import warnings\n",
    "warnings.filterwarnings(\"ignore\")"
   ]
  },
  {
   "cell_type": "code",
   "execution_count": null,
   "metadata": {
    "colab": {
     "base_uri": "https://localhost:8080/"
    },
    "id": "Cd079uig934L",
    "outputId": "79349943-5cc2-42b5-df29-d402bf0b8aa7"
   },
   "outputs": [],
   "source": [
    "from tensorflow.keras.datasets import mnist\n",
    "\n",
    "# the data, shuffled and split between train and test sets\n",
    "(X_train, y_train), (X_test, y_test) = mnist.load_data()"
   ]
  },
  {
   "cell_type": "markdown",
   "metadata": {
    "id": "aA0F9hYTVp8o"
   },
   "source": [
    "# **5.) Define the Model Architecture Using Tensorflow with a Flatten Layer followed by Dense Layers with Activation as ReLu and Softmax.**\n"
   ]
  },
  {
   "cell_type": "markdown",
   "metadata": {
    "id": "qL9stoOIU2Rz"
   },
   "source": [
    "# **AND**"
   ]
  },
  {
   "cell_type": "markdown",
   "metadata": {
    "id": "W2n98oLsUAv0"
   },
   "source": [
    "# **6.) Compile the Model with Loss as Categorical Cross-entropy and Adam Optimizers. Use Accuracy as the Metric for Evaluation.**\n"
   ]
  },
  {
   "cell_type": "code",
   "execution_count": null,
   "metadata": {
    "id": "c_qDSMPy934L"
   },
   "outputs": [],
   "source": [
    "import tensorflow as tf\n",
    "from tensorflow import keras\n",
    "from tensorflow.keras import layers"
   ]
  },
  {
   "cell_type": "code",
   "execution_count": null,
   "metadata": {
    "colab": {
     "base_uri": "https://localhost:8080/"
    },
    "id": "swQ76vNM934L",
    "outputId": "cdd5ffb2-bbb2-4bc9-8c97-8ccaad0b7dff"
   },
   "outputs": [],
   "source": [
    "import tensorflow as tf\n",
    "mnist = tf.keras.datasets.mnist\n",
    "\n",
    "(x_train, y_train),(x_test, y_test) = mnist.load_data()\n",
    "x_train, x_test = x_train / 255.0, x_test / 255.0\n",
    "\n",
    "model = tf.keras.models.Sequential([\n",
    "  tf.keras.layers.Flatten(input_shape=(28, 28)),\n",
    "  tf.keras.layers.Dense(128, activation='relu'),\n",
    "  tf.keras.layers.Dropout(0.2),\n",
    "  tf.keras.layers.Dense(10, activation='softmax')\n",
    "])\n",
    "\n",
    "model.compile(optimizer='adam',\n",
    "              loss='sparse_categorical_crossentropy',\n",
    "              metrics=['accuracy'])\n",
    "\n",
    "model.fit(x_train, y_train, epochs=5)\n",
    "model.evaluate(x_test, y_test)"
   ]
  },
  {
   "cell_type": "markdown",
   "metadata": {
    "id": "8Q-mhgsNXrnF"
   },
   "source": [
    "# **7.) FIT and Evaluate the Model. Print the Loss and Accuracy for the TEST DATA.**"
   ]
  },
  {
   "cell_type": "code",
   "execution_count": null,
   "metadata": {
    "colab": {
     "base_uri": "https://localhost:8080/"
    },
    "id": "kw1hVAkf934M",
    "outputId": "fc3a4799-6059-4c40-97e1-f6e256a30fb0"
   },
   "outputs": [],
   "source": [
    "model.fit(x_test, y_test, epochs=5)\n",
    "model.evaluate(x_test, y_test)"
   ]
  },
  {
   "cell_type": "code",
   "execution_count": null,
   "metadata": {
    "colab": {
     "base_uri": "https://localhost:8080/"
    },
    "id": "cK6OB87ubpHv",
    "outputId": "32635fb9-8e29-4764-a329-eaabddd50fcf"
   },
   "outputs": [],
   "source": [
    "model.fit(x_test, y_test, epochs=10)\n",
    "model.evaluate(x_test, y_test)"
   ]
  },
  {
   "cell_type": "markdown",
   "metadata": {
    "id": "C05fFvM4a-lO"
   },
   "source": [
    "# **8.) Plot the Graph for Training Loss and Training Accuracy, change with number of epochs**"
   ]
  },
  {
   "cell_type": "code",
   "execution_count": null,
   "metadata": {
    "colab": {
     "base_uri": "https://localhost:8080/"
    },
    "id": "J5icRrEudlRs",
    "outputId": "a4b49d6e-6112-4f80-f61a-ef787ef721c3"
   },
   "outputs": [],
   "source": [
    "import matplotlib.pyplot as plt\n",
    "model.fit(x_train, y_train, epochs=10)\n",
    "x,y=model.evaluate(x_train, y_train)\n"
   ]
  },
  {
   "cell_type": "code",
   "execution_count": null,
   "metadata": {
    "colab": {
     "base_uri": "https://localhost:8080/",
     "height": 313
    },
    "id": "Pjrz9glYhCm9",
    "outputId": "83743942-3c71-43c8-9cd3-1eb495a1fb85"
   },
   "outputs": [],
   "source": [
    "plt.plot(model.evaluate(x_train, y_train))\n",
    "plt.xlabel(\"Training Loss\")\n",
    "plt.ylabel(\"Training Accuracy\")"
   ]
  }
 ],
 "metadata": {
  "colab": {
   "collapsed_sections": [
    "nm25_3jS933z",
    "LiSjvZPm9330",
    "V4dl9CvV9331",
    "ABQ0f7nj9331",
    "uaFWEZZ89336",
    "9DKxh9qp933_",
    "VKCYUF2g934F"
   ],
   "name": "Copy of RAMA_DEVINENI__AI_PROJECT.ipynb",
   "provenance": []
  },
  "kernelspec": {
   "display_name": "Python 3",
   "language": "python",
   "name": "python3"
  },
  "language_info": {
   "codemirror_mode": {
    "name": "ipython",
    "version": 3
   },
   "file_extension": ".py",
   "mimetype": "text/x-python",
   "name": "python",
   "nbconvert_exporter": "python",
   "pygments_lexer": "ipython3",
   "version": "3.7.3"
  }
 },
 "nbformat": 4,
 "nbformat_minor": 1
}
